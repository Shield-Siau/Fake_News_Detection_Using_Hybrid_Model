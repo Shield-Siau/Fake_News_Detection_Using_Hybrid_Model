{
 "cells": [
  {
   "cell_type": "markdown",
   "id": "2ce341e3-0dd3-49a5-b70d-22fd61d7a642",
   "metadata": {},
   "source": [
    "# Import Library"
   ]
  },
  {
   "cell_type": "code",
   "execution_count": 1,
   "id": "5623c792-20de-4719-9cdf-739ca6429848",
   "metadata": {},
   "outputs": [],
   "source": [
    "import numpy as np\n",
    "import pandas as pd\n",
    "import seaborn as sns\n",
    "import re\n",
    "import nltk\n",
    "from nltk.corpus import stopwords\n",
    "from nltk.stem.porter import PorterStemmer\n",
    "from nltk.tokenize import word_tokenize\n",
    "from sklearn.feature_extraction.text import TfidfVectorizer\n",
    "from sklearn.model_selection import train_test_split\n",
    "import os\n",
    "import matplotlib.pyplot as plt\n",
    "import tensorflow as tf\n",
    "from tensorflow.keras.preprocessing.text import Tokenizer\n",
    "from tensorflow.keras import backend as K\n",
    "from tensorflow.keras.preprocessing.sequence import pad_sequences\n",
    "from tensorflow.keras.utils import to_categorical\n",
    "from tensorflow.keras.layers import Embedding\n",
    "from tensorflow.keras.layers import Dense, Embedding, Conv1D, MaxPool1D, Input, LSTM, Bidirectional, Layer, Dot, Dropout, BatchNormalization, Activation\n",
    "from tensorflow.keras.models import Model, load_model\n",
    "from tensorflow.keras.optimizers import Adam\n",
    "from tensorflow.keras.callbacks import Callback\n",
    "from tensorflow.dtypes import uint8, float32\n",
    "import pickle"
   ]
  },
  {
   "cell_type": "code",
   "execution_count": 2,
   "id": "a3e9a99b-53f0-4278-985e-cefa7093dd85",
   "metadata": {},
   "outputs": [],
   "source": [
    "from tensorflow.random import set_seed\n",
    "set_seed(5)"
   ]
  },
  {
   "cell_type": "markdown",
   "id": "c7d008d2-8ce5-476d-9614-0efbc46b0531",
   "metadata": {},
   "source": [
    "# Model 2"
   ]
  },
  {
   "cell_type": "code",
   "execution_count": 6,
   "id": "c3181d56-c72f-4fcf-aa5c-b2cfefa0f256",
   "metadata": {},
   "outputs": [],
   "source": [
    "path = os.getcwd() + '/'\n",
    "x_train=pickle.load(open(path+'x_train.pkl', 'rb'))\n",
    "y_train=pickle.load(open(path+'y_train.pkl', 'rb'))\n",
    "y_test=pickle.load(open(path+'y_test.pkl', 'rb'))\n",
    "x_test=pickle.load(open(path+'x_test.pkl', 'rb'))\n",
    "x_val=pickle.load(open(path+'x_val.pkl', 'rb'))\n",
    "y_val=pickle.load(open(path+'y_val.pkl', 'rb'))\n",
    "embedding_layer = pickle.load(open(path+'i100embedding_layer.pkl', 'rb'))"
   ]
  },
  {
   "cell_type": "code",
   "execution_count": 4,
   "id": "967ba8a4-62b9-4982-b0ee-571dde80e09e",
   "metadata": {},
   "outputs": [],
   "source": [
    "class Attention(Layer):\n",
    "    def __init__(self, return_sequences=True, **kwargs):\n",
    "        self.return_sequences = return_sequences\n",
    "        super(Attention, self).__init__(**kwargs)\n",
    "\n",
    "    def build(self, input_shape):\n",
    "        self.W = self.add_weight(name=\"att_weight\", shape=(input_shape[-1], 1), initializer=\"normal\")\n",
    "        self.b = self.add_weight(name=\"att_bias\", shape=(1,), initializer=\"zeros\")\n",
    "        super(Attention, self).build(input_shape)\n",
    "\n",
    "    def call(self, x):\n",
    "        e = tf.keras.backend.tanh(tf.keras.backend.dot(x, self.W) + self.b)\n",
    "        a = tf.keras.backend.softmax(e, axis=1)\n",
    "        output = x * a\n",
    "        if not self.return_sequences:\n",
    "            output = tf.keras.backend.sum(output, axis=1)\n",
    "        return output"
   ]
  },
  {
   "cell_type": "code",
   "execution_count": 5,
   "id": "5d870883-f60c-422e-b099-daa5e592cbe0",
   "metadata": {},
   "outputs": [],
   "source": [
    "class myCallback(Callback):\n",
    "    def __init__(self, model_name='CNN_BiLSTM_ATT', model_dir='./Models/CNN_BLSTM_ATT_Models'):\n",
    "        super(myCallback, self).__init__()\n",
    "        self.model_name = model_name\n",
    "        self.model_dir = model_dir\n",
    "        if not os.path.exists(self.model_dir):\n",
    "            os.makedirs(self.model_dir)\n",
    "\n",
    "    def on_epoch_end(self, epoch, logs=None):\n",
    "        if logs is None:\n",
    "            logs = {}\n",
    "        acc = logs.get('accuracy', 0)\n",
    "        val_acc = logs.get('val_accuracy', 0)\n",
    "        # You can add logging or other actions at the end of each epoch if needed\n",
    "\n",
    "    def on_train_end(self, logs=None):\n",
    "        if logs is None:\n",
    "            logs = {}\n",
    "\n",
    "        # Save model in .h5 format\n",
    "        h5_model_path = os.path.join(self.model_dir, f\"{self.model_name}.h5\")\n",
    "        self.model.save(h5_model_path)\n",
    "        print(f\"Model saved at: {h5_model_path} (H5 format)\")"
   ]
  },
  {
   "cell_type": "code",
   "execution_count": 6,
   "id": "4a6c68bb-402f-4a5b-a965-668387ea1f14",
   "metadata": {},
   "outputs": [
    {
     "name": "stdout",
     "output_type": "stream",
     "text": [
      "WARNING:tensorflow:From C:\\ProgramData\\anaconda3\\Lib\\site-packages\\keras\\src\\backend\\tensorflow\\core.py:204: The name tf.placeholder is deprecated. Please use tf.compat.v1.placeholder instead.\n",
      "\n"
     ]
    },
    {
     "data": {
      "text/html": [
       "<pre style=\"white-space:pre;overflow-x:auto;line-height:normal;font-family:Menlo,'DejaVu Sans Mono',consolas,'Courier New',monospace\"><span style=\"font-weight: bold\">Model: \"CNN+BiLSTM+ATT\"</span>\n",
       "</pre>\n"
      ],
      "text/plain": [
       "\u001b[1mModel: \"CNN+BiLSTM+ATT\"\u001b[0m\n"
      ]
     },
     "metadata": {},
     "output_type": "display_data"
    },
    {
     "data": {
      "text/html": [
       "<pre style=\"white-space:pre;overflow-x:auto;line-height:normal;font-family:Menlo,'DejaVu Sans Mono',consolas,'Courier New',monospace\">┏━━━━━━━━━━━━━━━━━━━━━━━━━━━━━━━━━━━━━━┳━━━━━━━━━━━━━━━━━━━━━━━━━━━━━┳━━━━━━━━━━━━━━━━━┓\n",
       "┃<span style=\"font-weight: bold\"> Layer (type)                         </span>┃<span style=\"font-weight: bold\"> Output Shape                </span>┃<span style=\"font-weight: bold\">         Param # </span>┃\n",
       "┡━━━━━━━━━━━━━━━━━━━━━━━━━━━━━━━━━━━━━━╇━━━━━━━━━━━━━━━━━━━━━━━━━━━━━╇━━━━━━━━━━━━━━━━━┩\n",
       "│ input_layer (<span style=\"color: #0087ff; text-decoration-color: #0087ff\">InputLayer</span>)             │ (<span style=\"color: #00d7ff; text-decoration-color: #00d7ff\">None</span>, <span style=\"color: #00af00; text-decoration-color: #00af00\">100</span>)                 │               <span style=\"color: #00af00; text-decoration-color: #00af00\">0</span> │\n",
       "├──────────────────────────────────────┼─────────────────────────────┼─────────────────┤\n",
       "│ embedding (<span style=\"color: #0087ff; text-decoration-color: #0087ff\">Embedding</span>)                │ (<span style=\"color: #00d7ff; text-decoration-color: #00d7ff\">None</span>, <span style=\"color: #00af00; text-decoration-color: #00af00\">100</span>, <span style=\"color: #00af00; text-decoration-color: #00af00\">300</span>)            │      <span style=\"color: #00af00; text-decoration-color: #00af00\">38,994,900</span> │\n",
       "├──────────────────────────────────────┼─────────────────────────────┼─────────────────┤\n",
       "│ conv1d (<span style=\"color: #0087ff; text-decoration-color: #0087ff\">Conv1D</span>)                      │ (<span style=\"color: #00d7ff; text-decoration-color: #00d7ff\">None</span>, <span style=\"color: #00af00; text-decoration-color: #00af00\">96</span>, <span style=\"color: #00af00; text-decoration-color: #00af00\">128</span>)             │         <span style=\"color: #00af00; text-decoration-color: #00af00\">192,128</span> │\n",
       "├──────────────────────────────────────┼─────────────────────────────┼─────────────────┤\n",
       "│ dropout (<span style=\"color: #0087ff; text-decoration-color: #0087ff\">Dropout</span>)                    │ (<span style=\"color: #00d7ff; text-decoration-color: #00d7ff\">None</span>, <span style=\"color: #00af00; text-decoration-color: #00af00\">96</span>, <span style=\"color: #00af00; text-decoration-color: #00af00\">128</span>)             │               <span style=\"color: #00af00; text-decoration-color: #00af00\">0</span> │\n",
       "├──────────────────────────────────────┼─────────────────────────────┼─────────────────┤\n",
       "│ batch_normalization                  │ (<span style=\"color: #00d7ff; text-decoration-color: #00d7ff\">None</span>, <span style=\"color: #00af00; text-decoration-color: #00af00\">96</span>, <span style=\"color: #00af00; text-decoration-color: #00af00\">128</span>)             │             <span style=\"color: #00af00; text-decoration-color: #00af00\">512</span> │\n",
       "│ (<span style=\"color: #0087ff; text-decoration-color: #0087ff\">BatchNormalization</span>)                 │                             │                 │\n",
       "├──────────────────────────────────────┼─────────────────────────────┼─────────────────┤\n",
       "│ max_pooling1d (<span style=\"color: #0087ff; text-decoration-color: #0087ff\">MaxPooling1D</span>)         │ (<span style=\"color: #00d7ff; text-decoration-color: #00d7ff\">None</span>, <span style=\"color: #00af00; text-decoration-color: #00af00\">48</span>, <span style=\"color: #00af00; text-decoration-color: #00af00\">128</span>)             │               <span style=\"color: #00af00; text-decoration-color: #00af00\">0</span> │\n",
       "├──────────────────────────────────────┼─────────────────────────────┼─────────────────┤\n",
       "│ bi_lstm_0 (<span style=\"color: #0087ff; text-decoration-color: #0087ff\">Bidirectional</span>)            │ (<span style=\"color: #00d7ff; text-decoration-color: #00d7ff\">None</span>, <span style=\"color: #00af00; text-decoration-color: #00af00\">48</span>, <span style=\"color: #00af00; text-decoration-color: #00af00\">256</span>)             │         <span style=\"color: #00af00; text-decoration-color: #00af00\">263,168</span> │\n",
       "├──────────────────────────────────────┼─────────────────────────────┼─────────────────┤\n",
       "│ dropout_1 (<span style=\"color: #0087ff; text-decoration-color: #0087ff\">Dropout</span>)                  │ (<span style=\"color: #00d7ff; text-decoration-color: #00d7ff\">None</span>, <span style=\"color: #00af00; text-decoration-color: #00af00\">48</span>, <span style=\"color: #00af00; text-decoration-color: #00af00\">256</span>)             │               <span style=\"color: #00af00; text-decoration-color: #00af00\">0</span> │\n",
       "├──────────────────────────────────────┼─────────────────────────────┼─────────────────┤\n",
       "│ attention (<span style=\"color: #0087ff; text-decoration-color: #0087ff\">Attention</span>)                │ (<span style=\"color: #00d7ff; text-decoration-color: #00d7ff\">None</span>, <span style=\"color: #00af00; text-decoration-color: #00af00\">256</span>)                 │             <span style=\"color: #00af00; text-decoration-color: #00af00\">257</span> │\n",
       "├──────────────────────────────────────┼─────────────────────────────┼─────────────────┤\n",
       "│ dense (<span style=\"color: #0087ff; text-decoration-color: #0087ff\">Dense</span>)                        │ (<span style=\"color: #00d7ff; text-decoration-color: #00d7ff\">None</span>, <span style=\"color: #00af00; text-decoration-color: #00af00\">1</span>)                   │             <span style=\"color: #00af00; text-decoration-color: #00af00\">257</span> │\n",
       "└──────────────────────────────────────┴─────────────────────────────┴─────────────────┘\n",
       "</pre>\n"
      ],
      "text/plain": [
       "┏━━━━━━━━━━━━━━━━━━━━━━━━━━━━━━━━━━━━━━┳━━━━━━━━━━━━━━━━━━━━━━━━━━━━━┳━━━━━━━━━━━━━━━━━┓\n",
       "┃\u001b[1m \u001b[0m\u001b[1mLayer (type)                        \u001b[0m\u001b[1m \u001b[0m┃\u001b[1m \u001b[0m\u001b[1mOutput Shape               \u001b[0m\u001b[1m \u001b[0m┃\u001b[1m \u001b[0m\u001b[1m        Param #\u001b[0m\u001b[1m \u001b[0m┃\n",
       "┡━━━━━━━━━━━━━━━━━━━━━━━━━━━━━━━━━━━━━━╇━━━━━━━━━━━━━━━━━━━━━━━━━━━━━╇━━━━━━━━━━━━━━━━━┩\n",
       "│ input_layer (\u001b[38;5;33mInputLayer\u001b[0m)             │ (\u001b[38;5;45mNone\u001b[0m, \u001b[38;5;34m100\u001b[0m)                 │               \u001b[38;5;34m0\u001b[0m │\n",
       "├──────────────────────────────────────┼─────────────────────────────┼─────────────────┤\n",
       "│ embedding (\u001b[38;5;33mEmbedding\u001b[0m)                │ (\u001b[38;5;45mNone\u001b[0m, \u001b[38;5;34m100\u001b[0m, \u001b[38;5;34m300\u001b[0m)            │      \u001b[38;5;34m38,994,900\u001b[0m │\n",
       "├──────────────────────────────────────┼─────────────────────────────┼─────────────────┤\n",
       "│ conv1d (\u001b[38;5;33mConv1D\u001b[0m)                      │ (\u001b[38;5;45mNone\u001b[0m, \u001b[38;5;34m96\u001b[0m, \u001b[38;5;34m128\u001b[0m)             │         \u001b[38;5;34m192,128\u001b[0m │\n",
       "├──────────────────────────────────────┼─────────────────────────────┼─────────────────┤\n",
       "│ dropout (\u001b[38;5;33mDropout\u001b[0m)                    │ (\u001b[38;5;45mNone\u001b[0m, \u001b[38;5;34m96\u001b[0m, \u001b[38;5;34m128\u001b[0m)             │               \u001b[38;5;34m0\u001b[0m │\n",
       "├──────────────────────────────────────┼─────────────────────────────┼─────────────────┤\n",
       "│ batch_normalization                  │ (\u001b[38;5;45mNone\u001b[0m, \u001b[38;5;34m96\u001b[0m, \u001b[38;5;34m128\u001b[0m)             │             \u001b[38;5;34m512\u001b[0m │\n",
       "│ (\u001b[38;5;33mBatchNormalization\u001b[0m)                 │                             │                 │\n",
       "├──────────────────────────────────────┼─────────────────────────────┼─────────────────┤\n",
       "│ max_pooling1d (\u001b[38;5;33mMaxPooling1D\u001b[0m)         │ (\u001b[38;5;45mNone\u001b[0m, \u001b[38;5;34m48\u001b[0m, \u001b[38;5;34m128\u001b[0m)             │               \u001b[38;5;34m0\u001b[0m │\n",
       "├──────────────────────────────────────┼─────────────────────────────┼─────────────────┤\n",
       "│ bi_lstm_0 (\u001b[38;5;33mBidirectional\u001b[0m)            │ (\u001b[38;5;45mNone\u001b[0m, \u001b[38;5;34m48\u001b[0m, \u001b[38;5;34m256\u001b[0m)             │         \u001b[38;5;34m263,168\u001b[0m │\n",
       "├──────────────────────────────────────┼─────────────────────────────┼─────────────────┤\n",
       "│ dropout_1 (\u001b[38;5;33mDropout\u001b[0m)                  │ (\u001b[38;5;45mNone\u001b[0m, \u001b[38;5;34m48\u001b[0m, \u001b[38;5;34m256\u001b[0m)             │               \u001b[38;5;34m0\u001b[0m │\n",
       "├──────────────────────────────────────┼─────────────────────────────┼─────────────────┤\n",
       "│ attention (\u001b[38;5;33mAttention\u001b[0m)                │ (\u001b[38;5;45mNone\u001b[0m, \u001b[38;5;34m256\u001b[0m)                 │             \u001b[38;5;34m257\u001b[0m │\n",
       "├──────────────────────────────────────┼─────────────────────────────┼─────────────────┤\n",
       "│ dense (\u001b[38;5;33mDense\u001b[0m)                        │ (\u001b[38;5;45mNone\u001b[0m, \u001b[38;5;34m1\u001b[0m)                   │             \u001b[38;5;34m257\u001b[0m │\n",
       "└──────────────────────────────────────┴─────────────────────────────┴─────────────────┘\n"
      ]
     },
     "metadata": {},
     "output_type": "display_data"
    },
    {
     "data": {
      "text/html": [
       "<pre style=\"white-space:pre;overflow-x:auto;line-height:normal;font-family:Menlo,'DejaVu Sans Mono',consolas,'Courier New',monospace\"><span style=\"font-weight: bold\"> Total params: </span><span style=\"color: #00af00; text-decoration-color: #00af00\">39,451,222</span> (150.49 MB)\n",
       "</pre>\n"
      ],
      "text/plain": [
       "\u001b[1m Total params: \u001b[0m\u001b[38;5;34m39,451,222\u001b[0m (150.49 MB)\n"
      ]
     },
     "metadata": {},
     "output_type": "display_data"
    },
    {
     "data": {
      "text/html": [
       "<pre style=\"white-space:pre;overflow-x:auto;line-height:normal;font-family:Menlo,'DejaVu Sans Mono',consolas,'Courier New',monospace\"><span style=\"font-weight: bold\"> Trainable params: </span><span style=\"color: #00af00; text-decoration-color: #00af00\">39,450,966</span> (150.49 MB)\n",
       "</pre>\n"
      ],
      "text/plain": [
       "\u001b[1m Trainable params: \u001b[0m\u001b[38;5;34m39,450,966\u001b[0m (150.49 MB)\n"
      ]
     },
     "metadata": {},
     "output_type": "display_data"
    },
    {
     "data": {
      "text/html": [
       "<pre style=\"white-space:pre;overflow-x:auto;line-height:normal;font-family:Menlo,'DejaVu Sans Mono',consolas,'Courier New',monospace\"><span style=\"font-weight: bold\"> Non-trainable params: </span><span style=\"color: #00af00; text-decoration-color: #00af00\">256</span> (1.00 KB)\n",
       "</pre>\n"
      ],
      "text/plain": [
       "\u001b[1m Non-trainable params: \u001b[0m\u001b[38;5;34m256\u001b[0m (1.00 KB)\n"
      ]
     },
     "metadata": {},
     "output_type": "display_data"
    }
   ],
   "source": [
    "# Model Definition\n",
    "i = Input([100], dtype=tf.uint8)\n",
    "x = embedding_layer(i)\n",
    "x = Conv1D(128, 5, activation='relu')(x)\n",
    "x = Dropout(0.30)(x)\n",
    "x = BatchNormalization()(x)\n",
    "x = MaxPool1D()(x)\n",
    "\n",
    "rnn_cell_size = 128\n",
    "\n",
    "x = Bidirectional(LSTM(rnn_cell_size, return_sequences=True), name=\"bi_lstm_0\")(x)\n",
    "x = Dropout(0.30)(x)\n",
    "x = Attention(return_sequences=False)(x) \n",
    "\n",
    "# Final dense layer for binary classification\n",
    "output = Dense(1, activation='sigmoid')(x)\n",
    "\n",
    "model = Model(inputs=[i], outputs=output, name='CNN+BiLSTM+ATT')\n",
    "\n",
    "model.compile(optimizer='adam', loss='binary_crossentropy', metrics=['accuracy'])\n",
    "\n",
    "model.summary()\n",
    "callback = myCallback(model_name='CNN_BiLSTM_ATT', model_dir='./Models/CNN_BLSTM_ATT_Models')"
   ]
  },
  {
   "cell_type": "markdown",
   "id": "d8dd093e-a0b9-4baf-9966-0718318e9e45",
   "metadata": {},
   "source": [
    "## How Attention Works\n",
    "\n",
    "1. **Step 1**: The BiLSTM processes the input sequence and outputs hidden states for each step.\n",
    "  \n",
    "2. **Step 2**: The attention layer assigns a score to each step, showing its importance.\n",
    "  \n",
    "3. **Step 3**: The attention layer uses these scores to create a single vector that captures the most important parts of the sequence.\n",
    "  \n",
    "4. **Step 4**: This vector is passed to the final layer, which uses it to make the prediction.\n",
    "\n",
    "When trying to classify a sentence as positive or negative. Some words or phrases, like \"love\" or \"hate,\" may be more important for understanding the sentiment. The attention layer helps the model pay attention to these key words, making the prediction more accurate.d interpretable prediction.\r\n"
   ]
  },
  {
   "cell_type": "code",
   "execution_count": 8,
   "id": "807232ac-f10d-4aa6-b28e-aee15709188a",
   "metadata": {},
   "outputs": [
    {
     "name": "stdout",
     "output_type": "stream",
     "text": [
      "Epoch 1/30\n",
      "\u001b[1m561/561\u001b[0m \u001b[32m━━━━━━━━━━━━━━━━━━━━\u001b[0m\u001b[37m\u001b[0m \u001b[1m141s\u001b[0m 252ms/step - accuracy: 0.9563 - loss: 0.1172 - val_accuracy: 0.9468 - val_loss: 0.1325\n",
      "Epoch 2/30\n",
      "\u001b[1m561/561\u001b[0m \u001b[32m━━━━━━━━━━━━━━━━━━━━\u001b[0m\u001b[37m\u001b[0m \u001b[1m137s\u001b[0m 244ms/step - accuracy: 0.9673 - loss: 0.0845\n",
      "Epoch 3/30\n",
      "\u001b[1m561/561\u001b[0m \u001b[32m━━━━━━━━━━━━━━━━━━━━\u001b[0m\u001b[37m\u001b[0m \u001b[1m139s\u001b[0m 248ms/step - accuracy: 0.9778 - loss: 0.0636 - val_accuracy: 0.9601 - val_loss: 0.1077\n",
      "Epoch 4/30\n",
      "\u001b[1m561/561\u001b[0m \u001b[32m━━━━━━━━━━━━━━━━━━━━\u001b[0m\u001b[37m\u001b[0m \u001b[1m139s\u001b[0m 248ms/step - accuracy: 0.9830 - loss: 0.0470\n",
      "Epoch 5/30\n",
      "\u001b[1m561/561\u001b[0m \u001b[32m━━━━━━━━━━━━━━━━━━━━\u001b[0m\u001b[37m\u001b[0m \u001b[1m141s\u001b[0m 250ms/step - accuracy: 0.9857 - loss: 0.0382 - val_accuracy: 0.9648 - val_loss: 0.1005\n",
      "Epoch 6/30\n",
      "\u001b[1m561/561\u001b[0m \u001b[32m━━━━━━━━━━━━━━━━━━━━\u001b[0m\u001b[37m\u001b[0m \u001b[1m139s\u001b[0m 248ms/step - accuracy: 0.9900 - loss: 0.0297\n",
      "Epoch 7/30\n",
      "\u001b[1m561/561\u001b[0m \u001b[32m━━━━━━━━━━━━━━━━━━━━\u001b[0m\u001b[37m\u001b[0m \u001b[1m140s\u001b[0m 250ms/step - accuracy: 0.9911 - loss: 0.0256 - val_accuracy: 0.9639 - val_loss: 0.1378\n",
      "Epoch 8/30\n",
      "\u001b[1m561/561\u001b[0m \u001b[32m━━━━━━━━━━━━━━━━━━━━\u001b[0m\u001b[37m\u001b[0m \u001b[1m139s\u001b[0m 248ms/step - accuracy: 0.9914 - loss: 0.0241\n",
      "Epoch 9/30\n",
      "\u001b[1m561/561\u001b[0m \u001b[32m━━━━━━━━━━━━━━━━━━━━\u001b[0m\u001b[37m\u001b[0m \u001b[1m140s\u001b[0m 250ms/step - accuracy: 0.9931 - loss: 0.0205 - val_accuracy: 0.9717 - val_loss: 0.1091\n",
      "Epoch 10/30\n",
      "\u001b[1m561/561\u001b[0m \u001b[32m━━━━━━━━━━━━━━━━━━━━\u001b[0m\u001b[37m\u001b[0m \u001b[1m140s\u001b[0m 249ms/step - accuracy: 0.9937 - loss: 0.0167\n",
      "Epoch 11/30\n",
      "\u001b[1m561/561\u001b[0m \u001b[32m━━━━━━━━━━━━━━━━━━━━\u001b[0m\u001b[37m\u001b[0m \u001b[1m141s\u001b[0m 251ms/step - accuracy: 0.9937 - loss: 0.0171 - val_accuracy: 0.9633 - val_loss: 0.1554\n",
      "Epoch 12/30\n",
      "\u001b[1m561/561\u001b[0m \u001b[32m━━━━━━━━━━━━━━━━━━━━\u001b[0m\u001b[37m\u001b[0m \u001b[1m140s\u001b[0m 249ms/step - accuracy: 0.9951 - loss: 0.0138\n",
      "Epoch 13/30\n",
      "\u001b[1m561/561\u001b[0m \u001b[32m━━━━━━━━━━━━━━━━━━━━\u001b[0m\u001b[37m\u001b[0m \u001b[1m142s\u001b[0m 252ms/step - accuracy: 0.9945 - loss: 0.0148 - val_accuracy: 0.9621 - val_loss: 0.1674\n",
      "Epoch 14/30\n",
      "\u001b[1m561/561\u001b[0m \u001b[32m━━━━━━━━━━━━━━━━━━━━\u001b[0m\u001b[37m\u001b[0m \u001b[1m140s\u001b[0m 249ms/step - accuracy: 0.9966 - loss: 0.0103\n",
      "Epoch 15/30\n",
      "\u001b[1m561/561\u001b[0m \u001b[32m━━━━━━━━━━━━━━━━━━━━\u001b[0m\u001b[37m\u001b[0m \u001b[1m141s\u001b[0m 252ms/step - accuracy: 0.9953 - loss: 0.0126 - val_accuracy: 0.9739 - val_loss: 0.1180\n",
      "Epoch 16/30\n",
      "\u001b[1m561/561\u001b[0m \u001b[32m━━━━━━━━━━━━━━━━━━━━\u001b[0m\u001b[37m\u001b[0m \u001b[1m140s\u001b[0m 250ms/step - accuracy: 0.9954 - loss: 0.0123\n",
      "Epoch 17/30\n",
      "\u001b[1m561/561\u001b[0m \u001b[32m━━━━━━━━━━━━━━━━━━━━\u001b[0m\u001b[37m\u001b[0m \u001b[1m142s\u001b[0m 253ms/step - accuracy: 0.9967 - loss: 0.0099 - val_accuracy: 0.9733 - val_loss: 0.1240\n",
      "Epoch 18/30\n",
      "\u001b[1m561/561\u001b[0m \u001b[32m━━━━━━━━━━━━━━━━━━━━\u001b[0m\u001b[37m\u001b[0m \u001b[1m140s\u001b[0m 250ms/step - accuracy: 0.9953 - loss: 0.0120\n",
      "Epoch 19/30\n",
      "\u001b[1m561/561\u001b[0m \u001b[32m━━━━━━━━━━━━━━━━━━━━\u001b[0m\u001b[37m\u001b[0m \u001b[1m142s\u001b[0m 253ms/step - accuracy: 0.9971 - loss: 0.0094 - val_accuracy: 0.9731 - val_loss: 0.1506\n",
      "Epoch 20/30\n",
      "\u001b[1m561/561\u001b[0m \u001b[32m━━━━━━━━━━━━━━━━━━━━\u001b[0m\u001b[37m\u001b[0m \u001b[1m140s\u001b[0m 250ms/step - accuracy: 0.9961 - loss: 0.0119\n",
      "Epoch 21/30\n",
      "\u001b[1m561/561\u001b[0m \u001b[32m━━━━━━━━━━━━━━━━━━━━\u001b[0m\u001b[37m\u001b[0m \u001b[1m142s\u001b[0m 253ms/step - accuracy: 0.9972 - loss: 0.0088 - val_accuracy: 0.9757 - val_loss: 0.1431\n",
      "Epoch 22/30\n",
      "\u001b[1m561/561\u001b[0m \u001b[32m━━━━━━━━━━━━━━━━━━━━\u001b[0m\u001b[37m\u001b[0m \u001b[1m141s\u001b[0m 250ms/step - accuracy: 0.9970 - loss: 0.0095\n",
      "Epoch 23/30\n",
      "\u001b[1m561/561\u001b[0m \u001b[32m━━━━━━━━━━━━━━━━━━━━\u001b[0m\u001b[37m\u001b[0m \u001b[1m142s\u001b[0m 254ms/step - accuracy: 0.9968 - loss: 0.0093 - val_accuracy: 0.9751 - val_loss: 0.1161\n",
      "Epoch 24/30\n",
      "\u001b[1m561/561\u001b[0m \u001b[32m━━━━━━━━━━━━━━━━━━━━\u001b[0m\u001b[37m\u001b[0m \u001b[1m140s\u001b[0m 250ms/step - accuracy: 0.9975 - loss: 0.0074\n",
      "Epoch 25/30\n",
      "\u001b[1m561/561\u001b[0m \u001b[32m━━━━━━━━━━━━━━━━━━━━\u001b[0m\u001b[37m\u001b[0m \u001b[1m142s\u001b[0m 254ms/step - accuracy: 0.9968 - loss: 0.0096 - val_accuracy: 0.9771 - val_loss: 0.1185\n",
      "Epoch 26/30\n",
      "\u001b[1m561/561\u001b[0m \u001b[32m━━━━━━━━━━━━━━━━━━━━\u001b[0m\u001b[37m\u001b[0m \u001b[1m140s\u001b[0m 250ms/step - accuracy: 0.9973 - loss: 0.0074\n",
      "Epoch 27/30\n",
      "\u001b[1m561/561\u001b[0m \u001b[32m━━━━━━━━━━━━━━━━━━━━\u001b[0m\u001b[37m\u001b[0m \u001b[1m142s\u001b[0m 253ms/step - accuracy: 0.9976 - loss: 0.0072 - val_accuracy: 0.9777 - val_loss: 0.1155\n",
      "Epoch 28/30\n",
      "\u001b[1m561/561\u001b[0m \u001b[32m━━━━━━━━━━━━━━━━━━━━\u001b[0m\u001b[37m\u001b[0m \u001b[1m141s\u001b[0m 251ms/step - accuracy: 0.9970 - loss: 0.0086\n",
      "Epoch 29/30\n",
      "\u001b[1m561/561\u001b[0m \u001b[32m━━━━━━━━━━━━━━━━━━━━\u001b[0m\u001b[37m\u001b[0m \u001b[1m143s\u001b[0m 254ms/step - accuracy: 0.9975 - loss: 0.0074 - val_accuracy: 0.9746 - val_loss: 0.1298\n",
      "Epoch 30/30\n",
      "\u001b[1m561/561\u001b[0m \u001b[32m━━━━━━━━━━━━━━━━━━━━\u001b[0m\u001b[37m\u001b[0m \u001b[1m141s\u001b[0m 250ms/step - accuracy: 0.9978 - loss: 0.0067\n"
     ]
    },
    {
     "name": "stderr",
     "output_type": "stream",
     "text": [
      "WARNING:absl:You are saving your model as an HDF5 file via `model.save()` or `keras.saving.save_model(model)`. This file format is considered legacy. We recommend using instead the native Keras format, e.g. `model.save('my_model.keras')` or `keras.saving.save_model(model, 'my_model.keras')`. \n"
     ]
    },
    {
     "name": "stdout",
     "output_type": "stream",
     "text": [
      "Model saved at: ./Models/CNN_BLSTM_ATT_Models\\CNN_BiLSTM_ATT.h5 (H5 format)\n"
     ]
    }
   ],
   "source": [
    "BATCH_SIZE = 64\n",
    "EPOCHS = 30\n",
    "\n",
    "TRAINING_STEPS = len(x_train) // BATCH_SIZE\n",
    "VALIDATION_STEPS = len(x_val) // BATCH_SIZE\n",
    "\n",
    "history = model.fit(x_train, y_train,\n",
    "                    steps_per_epoch=TRAINING_STEPS,\n",
    "                    validation_data=(x_val, y_val),\n",
    "                    validation_steps=VALIDATION_STEPS,\n",
    "                    epochs=EPOCHS,\n",
    "                    callbacks=[callback],\n",
    "                    verbose='auto')\n",
    "\n",
    "pickle.dump(history.history, open('./Models/CNN_BLSTM_ATT_Models/history_CNN_BiLSTM_ATT.pkl', 'wb'))"
   ]
  },
  {
   "cell_type": "code",
   "execution_count": 3,
   "id": "59f885c6-7d2a-48ec-8a10-143666a5edb8",
   "metadata": {},
   "outputs": [
    {
     "data": {
      "image/png": "[encoded data removed]",
      "text/plain": [
       "<Figure size 1200x600 with 2 Axes>"
      ]
     },
     "metadata": {},
     "output_type": "display_data"
    }
   ],
   "source": [
    "with open('./Models/CNN_BLSTM_ATT_Models/history_CNN_BiLSTM_ATT.pkl', 'rb') as file:\n",
    "    history = pickle.load(file)\n",
    "    \n",
    "fig, axs = plt.subplots(1, 2, figsize=(12, 6))\n",
    "\n",
    "# Plot Accuracy\n",
    "axs[0].plot(history['accuracy'], label='Train Accuracy')\n",
    "axs[0].plot(history['val_accuracy'], label='Validation Accuracy')\n",
    "axs[0].set_title('Model Accuracy of CNN+BiLSTM+ATT')\n",
    "axs[0].set_xlabel('Epoch')\n",
    "axs[0].set_ylabel('Accuracy')\n",
    "axs[0].set_ylim(0.8, 1)\n",
    "axs[0].legend(loc='upper left')\n",
    "\n",
    "# Plot Loss\n",
    "axs[1].plot(history['loss'], label='Train Loss')\n",
    "axs[1].plot(history['val_loss'], label='Validation Loss')\n",
    "axs[1].set_title('Model Loss of CNN+BiLSTM+ATT')\n",
    "axs[1].set_xlabel('Epoch')\n",
    "axs[1].set_ylabel('Loss')\n",
    "axs[1].set_ylim(0, 0.5)\n",
    "axs[1].legend(loc='upper left')\n",
    "\n",
    "plt.tight_layout()\n",
    "plt.show()"
   ]
  },
  {
   "cell_type": "code",
   "execution_count": 2,
   "id": "705535e9-5b3f-46bc-aa21-ba1d4a1187bf",
   "metadata": {},
   "outputs": [],
   "source": [
    "from sklearn.metrics import confusion_matrix\n",
    "from sklearn.metrics import precision_score, recall_score, f1_score, accuracy_score"
   ]
  },
  {
   "cell_type": "code",
   "execution_count": 3,
   "id": "a13f32ee-feac-4d0e-beb7-f740a979aa90",
   "metadata": {},
   "outputs": [
    {
     "name": "stdout",
     "output_type": "stream",
     "text": [
      "WARNING:tensorflow:From C:\\ProgramData\\anaconda3\\Lib\\site-packages\\keras\\src\\backend\\tensorflow\\core.py:204: The name tf.placeholder is deprecated. Please use tf.compat.v1.placeholder instead.\n",
      "\n"
     ]
    },
    {
     "name": "stderr",
     "output_type": "stream",
     "text": [
      "WARNING:absl:Compiled the loaded model, but the compiled metrics have yet to be built. `model.compile_metrics` will be empty until you train or evaluate the model.\n"
     ]
    }
   ],
   "source": [
    "from tensorflow.keras import layers \n",
    "\n",
    "class Attention(layers.Layer):\n",
    "    def __init__(self, return_sequences=True, **kwargs):\n",
    "        self.return_sequences = return_sequences\n",
    "        super(Attention, self).__init__(**kwargs)\n",
    "\n",
    "    def build(self, input_shape):\n",
    "        self.W = self.add_weight(name=\"att_weight\", shape=(input_shape[-1], 1), initializer=\"normal\")\n",
    "        self.b = self.add_weight(name=\"att_bias\", shape=(1,), initializer=\"zeros\")\n",
    "        super(Attention, self).build(input_shape)\n",
    "\n",
    "    def call(self, x):\n",
    "        e = tf.keras.backend.tanh(tf.keras.backend.dot(x, self.W) + self.b)\n",
    "        a = tf.keras.backend.softmax(e, axis=1)\n",
    "        output = x * a\n",
    "        if not self.return_sequences:\n",
    "            output = tf.keras.backend.sum(output, axis=1)\n",
    "        return output\n",
    "\n",
    "\n",
    "# Register the custom Attention layer\n",
    "tf.keras.utils.get_custom_objects().update({'Attention': Attention})\n",
    "\n",
    "saved_model_path = './Models/CNN_BLSTM_ATT_Models\\CNN_BiLSTM_ATT.h5'\n",
    "\n",
    "# Load the model with the custom objects\n",
    "inference_model = tf.keras.models.load_model(saved_model_path)"
   ]
  },
  {
   "cell_type": "code",
   "execution_count": 7,
   "id": "b4a124ab-151d-45ce-a684-8da1f495c4b6",
   "metadata": {},
   "outputs": [
    {
     "name": "stdout",
     "output_type": "stream",
     "text": [
      "\u001b[1m141/141\u001b[0m \u001b[32m━━━━━━━━━━━━━━━━━━━━\u001b[0m\u001b[37m\u001b[0m \u001b[1m4s\u001b[0m 20ms/step\n"
     ]
    },
    {
     "data": {
      "text/plain": [
       "array([7.5023703e-11, 7.4414239e-09, 1.3547964e-09, ..., 8.3528684e-10,\n",
       "       2.6303087e-06, 9.9999946e-01], dtype=float32)"
      ]
     },
     "execution_count": 7,
     "metadata": {},
     "output_type": "execute_result"
    }
   ],
   "source": [
    "y_pred= inference_model.predict(x_test)\n",
    "y_pred = np.squeeze(y_pred)\n",
    "y_pred"
   ]
  },
  {
   "cell_type": "code",
   "execution_count": 8,
   "id": "d91784a0-b912-4ca0-b492-e17a3b3525da",
   "metadata": {},
   "outputs": [],
   "source": [
    "p = lambda t : 1 if t>=0.5 else 0\n",
    "y_pred=np.vectorize(p)(y_pred)"
   ]
  },
  {
   "cell_type": "code",
   "execution_count": 9,
   "id": "243f8379-d352-4ef0-9d01-81830b59be79",
   "metadata": {},
   "outputs": [],
   "source": [
    "y_pred = y_pred.astype(int)\n",
    "y_test = y_test.astype(int)"
   ]
  },
  {
   "cell_type": "code",
   "execution_count": 10,
   "id": "aaa3643d-14b6-4733-afb5-6edb6242b5b7",
   "metadata": {},
   "outputs": [],
   "source": [
    "from sklearn.metrics import confusion_matrix\n",
    "from sklearn.metrics import precision_score, recall_score, f1_score, accuracy_score\n",
    "\n",
    "conf_matrix = confusion_matrix(y_true=y_test, y_pred=y_pred)"
   ]
  },
  {
   "cell_type": "code",
   "execution_count": 16,
   "id": "99fb076a-5069-415f-b3c5-e903f4bd4eef",
   "metadata": {},
   "outputs": [
    {
     "data": {
      "image/png": "[encoded data removed]",
      "text/plain": [
       "<Figure size 600x600 with 2 Axes>"
      ]
     },
     "metadata": {},
     "output_type": "display_data"
    }
   ],
   "source": [
    "plt.figure(figsize=(6, 6))\n",
    "sns.heatmap(conf_matrix, annot=True, fmt='d', cmap='Blues', cbar=True, square=True,\n",
    "            annot_kws={\"size\": 16}, linewidths=0.5, linecolor='black')\n",
    "\n",
    "plt.xlabel('Predicted Labels', fontsize=12)\n",
    "plt.ylabel('True Labels', fontsize=12)\n",
    "plt.title('Confusion Matrix CNN+BiLSTM+ATT', fontsize=14)\n",
    "plt.show()"
   ]
  },
  {
   "cell_type": "markdown",
   "id": "b4cb6ed7-5816-46d8-8e7f-be15cb3cfa4f",
   "metadata": {},
   "source": [
    "\n",
    "|   | Predicted: True News | Predicted: Fake News |\n",
    "|---|----------------------|---------------------|\n",
    "| **Actual: True News**    | 2,365 (TP)          | 47 (FN)             |\n",
    "| **Actual: Fake News**    | 68 (FP)            | 2,010 (TN)           |"
   ]
  },
  {
   "cell_type": "code",
   "execution_count": 17,
   "id": "5857a6dd-16bf-4155-b4e0-b9cc5f2de859",
   "metadata": {},
   "outputs": [
    {
     "name": "stdout",
     "output_type": "stream",
     "text": [
      "Accuracy: 0.974\n",
      "Precision: 0.977\n",
      "Recall: 0.967\n",
      "F1 Score: 0.972\n"
     ]
    }
   ],
   "source": [
    "# Displaying performance metrics\n",
    "print('Accuracy: %.3f' % accuracy_score(y_test, y_pred))\n",
    "print('Precision: %.3f' % precision_score(y_test, y_pred))\n",
    "print('Recall: %.3f' % recall_score(y_test, y_pred))\n",
    "print('F1 Score: %.3f' % f1_score(y_test, y_pred))"
   ]
  },
  {
   "cell_type": "markdown",
   "id": "424cac52-9a59-4eb1-8197-0a25ccabbfb4",
   "metadata": {},
   "source": [
    "- These results indicate that the model performs very well.\n",
    "- It achieves better results than Model 1 (CNN+LSTM) with the following metrics:\n",
    "    - **Accuracy**: 0.943\n",
    "    - **Precision**: 0.964\n",
    "    - **Recall**: 0.910\n",
    "    - **F1 Score**: 0.936"
   ]
  },
  {
   "cell_type": "code",
   "execution_count": 23,
   "id": "bf44edcb-a81e-42a4-b817-a247becc73d5",
   "metadata": {},
   "outputs": [
    {
     "name": "stdout",
     "output_type": "stream",
     "text": [
      "Model architecture saved to: vis\\model_2.png\n"
     ]
    }
   ],
   "source": [
    "dot_img_dir = 'vis'\n",
    "dot_img_file = os.path.join(dot_img_dir, 'model_2.png')\n",
    "\n",
    "# Plot and save the model architecture to the specified file\n",
    "tf.keras.utils.plot_model(model, to_file=dot_img_file, show_shapes=True)\n",
    "\n",
    "print(f\"Model architecture saved to: {dot_img_file}\")"
   ]
  },
  {
   "cell_type": "code",
   "execution_count": null,
   "id": "e4cb4f71-3845-45a1-9843-ea3f8722e7d6",
   "metadata": {},
   "outputs": [],
   "source": []
  }
 ],
 "metadata": {
  "kernelspec": {
   "display_name": "Python 3 (ipykernel)",
   "language": "python",
   "name": "python3"
  },
  "language_info": {
   "codemirror_mode": {
    "name": "ipython",
    "version": 3
   },
   "file_extension": ".py",
   "mimetype": "text/x-python",
   "name": "python",
   "nbconvert_exporter": "python",
   "pygments_lexer": "ipython3",
   "version": "3.11.5"
  }
 },
 "nbformat": 4,
 "nbformat_minor": 5
}
