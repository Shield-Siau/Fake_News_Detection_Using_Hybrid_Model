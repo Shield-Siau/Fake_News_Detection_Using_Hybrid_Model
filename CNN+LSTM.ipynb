{
 "cells": [
  {
   "cell_type": "markdown",
   "id": "2fd9d61e-7861-4bc3-9579-a0109b57f116",
   "metadata": {},
   "source": [
    "# Library"
   ]
  },
  {
   "cell_type": "code",
   "execution_count": 11,
   "id": "1085474c-31d0-4a85-a38b-46e60cde8e50",
   "metadata": {},
   "outputs": [],
   "source": [
    "import numpy as np\n",
    "import pandas as pd\n",
    "import seaborn as sns\n",
    "import re\n",
    "import nltk\n",
    "from nltk.corpus import stopwords\n",
    "from nltk.stem.porter import PorterStemmer\n",
    "from nltk.tokenize import word_tokenize\n",
    "from sklearn.feature_extraction.text import TfidfVectorizer\n",
    "from sklearn.model_selection import train_test_split\n",
    "from sklearn.metrics import confusion_matrix\n",
    "from sklearn.metrics import precision_score, recall_score, f1_score, accuracy_score\n",
    "import os\n",
    "import matplotlib.pyplot as plt\n",
    "import tensorflow as tf\n",
    "from tensorflow.keras.preprocessing.text import Tokenizer\n",
    "from tensorflow.keras.preprocessing.sequence import pad_sequences\n",
    "from tensorflow.keras.utils import to_categorical\n",
    "from tensorflow.keras.layers import Embedding\n",
    "from tensorflow.keras.layers import Dense, Embedding, Conv1D, MaxPool1D, Input, LSTM, BatchNormalization, Dropout\n",
    "from tensorflow.keras.models import Model, load_model\n",
    "from tensorflow.keras.optimizers import Adam\n",
    "from tensorflow.keras.callbacks import Callback\n",
    "from tensorflow.dtypes import uint8, float32\n",
    "from keras.layers import TFSMLayer\n",
    "import pickle"
   ]
  },
  {
   "cell_type": "code",
   "execution_count": 12,
   "id": "533826f4-a9d9-4193-85e6-08d2a7720b26",
   "metadata": {},
   "outputs": [],
   "source": [
    "from tensorflow.random import set_seed\n",
    "set_seed(5)"
   ]
  },
  {
   "cell_type": "markdown",
   "id": "519152a2-1b3a-48f6-9a75-fb1d54c8139d",
   "metadata": {},
   "source": [
    "Set the random seed for operations to 5 to ensures that any random operation (e.g., shuffling data, initializing weights in neural networks) produce the same results each time the code is run"
   ]
  },
  {
   "cell_type": "markdown",
   "id": "20f7c457-01cf-454b-a9be-7bf97e49fbd0",
   "metadata": {},
   "source": [
    "# Data Loading and Preprocessing"
   ]
  },
  {
   "cell_type": "code",
   "execution_count": 13,
   "id": "50c720e5-ee3a-45e6-8658-f01ce8749390",
   "metadata": {},
   "outputs": [],
   "source": [
    "true = pd.read_csv('True.csv')\n",
    "fake = pd.read_csv('Fake.csv')\n",
    "\n",
    "# add 1 for label for true and 0 fro fake\n",
    "true[\"label\"] = 1\n",
    "fake['label'] = 0\n",
    "\n",
    "# Combine both dataframes and shuffle\n",
    "input_data = pd.concat( [true,fake] )\n",
    "input_data = input_data.sample(frac = 1)\n",
    "\n",
    "# remove website url and ip\n",
    "input_data['text']= input_data['text'].apply(lambda x: re.sub(r\"(https?:\\/\\/(?:www\\.|(?!www))[a-zA-Z0-9][a-zA-Z0-9-]+[a-zA-Z0-9]\\.[^\\s]{2,}|www\\.[a-zA-Z0-9][a-zA-Z0-9-]+[a-zA-Z0-9]\\.[^\\s]{2,}|https?:\\/\\/(?:www\\.|(?!www))[a-zA-Z0-9]+\\.[^\\s]{2,}|www\\.[a-zA-Z0-9]+\\.[^\\s]{2,})\", \"\", x))\n",
    "input_data['text']= input_data['text'].apply(lambda x: re.sub(r\"^(?!mailto:)(?:(?:http|https|ftp)://)(?:\\\\S+(?::\\\\S*)?@)?(?:(?:(?:[1-9]\\\\d?|1\\\\d\\\\d|2[01]\\\\d|22[0-3])(?:\\\\.(?:1?\\\\d{1,2}|2[0-4]\\\\d|25[0-5])){2}(?:\\\\.(?:[0-9]\\\\d?|1\\\\d\\\\d|2[0-4]\\\\d|25[0-4]))|(?:(?:[a-z\\\\u00a1-\\\\uffff0-9]+-?)*[a-z\\\\u00a1-\\\\uffff0-9]+)(?:\\\\.(?:[a-z\\\\u00a1-\\\\uffff0-9]+-?)*[a-z\\\\u00a1-\\\\uffff0-9]+)*(?:\\\\.(?:[a-z\\\\u00a1-\\\\uffff]{2,})))|localhost)(?::\\\\d{2,5})?(?:(/|\\\\?|#)[^\\\\s]*)?$\", \"\", x))\n",
    "input_data['text']= input_data['text'].apply(lambda x: re.sub(r\"^((25[0-5]|(2[0-4]|1[0-9]|[1-9]|)[0-9])(\\.(?!$)|$)){4}$\", \"\", x))"
   ]
  },
  {
   "cell_type": "code",
   "execution_count": 14,
   "id": "bc6dd98b-2ee4-4a11-8cf5-537627d625c2",
   "metadata": {},
   "outputs": [],
   "source": [
    "# Remove stopwords\n",
    "stop_words = set(stopwords.words('english'))\n",
    "input_data['text'] = input_data['text'].apply(lambda x: ' '.join([word for word in x.split() if word.lower() not in stop_words]))"
   ]
  },
  {
   "cell_type": "markdown",
   "id": "85b6132a-5260-45f1-aa5a-51138a98d9fb",
   "metadata": {},
   "source": [
    "\n",
    "The function of the step involving the removal of stopwords is to preprocess the text data by eliminating words that do not contribute significantly to the meaning or classification task. Stopwords are common words like \"the,\" \"is,\" \"and,\" \"in,\" etc., which appear frequently in natural language but usually do not carry much semantic weight."
   ]
  },
  {
   "cell_type": "code",
   "execution_count": 15,
   "id": "263a7187-01d1-4ce2-b862-c1a4958c3dd0",
   "metadata": {},
   "outputs": [],
   "source": [
    "#STEMMING\n",
    "porter = PorterStemmer()\n",
    "# for word in input_data['text']:\n",
    "#     print(porter.stem(word))\n",
    "input_data['text'] = input_data['text'].apply(lambda x: ' '.join([porter.stem(y) for y in x.split()]))"
   ]
  },
  {
   "cell_type": "markdown",
   "id": "f6467e41-1a3d-4633-8d73-e9adb5904790",
   "metadata": {},
   "source": [
    "# Mapping Text to Vectors"
   ]
  },
  {
   "cell_type": "code",
   "execution_count": 16,
   "id": "fa5c81e7-6f5a-4be8-8f6c-b89a2e61c0bd",
   "metadata": {},
   "outputs": [
    {
     "data": {
      "text/plain": [
       "44898"
      ]
     },
     "execution_count": 16,
     "metadata": {},
     "output_type": "execute_result"
    }
   ],
   "source": [
    "# Tockenization\n",
    "tokenizer = Tokenizer(num_words=9999999999)\n",
    "tokenizer.fit_on_texts(input_data['text'])\n",
    "sequences = tokenizer.texts_to_sequences(input_data['text'])\n",
    "word_index = tokenizer.word_index\n",
    "\n",
    "len(sequences)\n",
    "\n",
    "#with open('tokenizer.pkl', 'wb') as f:\n",
    "#    pickle.dump(tokenizer, f)\n",
    "\n",
    "#print(\"Tokenizer saved successfully.\")"
   ]
  },
  {
   "cell_type": "code",
   "execution_count": 17,
   "id": "72e747b8-d566-4995-be22-4ef9cdd98e25",
   "metadata": {},
   "outputs": [],
   "source": [
    "sequences=tf.keras.preprocessing.sequence.pad_sequences(\n",
    "    sequences,\n",
    "    maxlen=100,\n",
    "    dtype='int32',\n",
    "    padding='post',\n",
    "    truncating='pre',\n",
    "    value=0.0\n",
    ")\n",
    "\n",
    "GLOVE_DIR = os.getcwd()\n",
    "\n",
    "embeddings_index = {}\n",
    "\n",
    "with open(os.path.join(GLOVE_DIR, 'glove.6B.300d.txt'), encoding=\"utf8\") as f:\n",
    "    for line in f:\n",
    "        values = line.split()\n",
    "        word = values[0]  # The first value is the word\n",
    "        coefs = np.asarray(values[1:], dtype='float32')  # The rest are the coefficients (embeddings)\n",
    "        embeddings_index[word] = coefs  # Add to dictionary\n",
    "f.close()"
   ]
  },
  {
   "cell_type": "code",
   "execution_count": 18,
   "id": "4f591aff-1dff-47bf-bc80-413e5c3c6271",
   "metadata": {},
   "outputs": [
    {
     "name": "stdout",
     "output_type": "stream",
     "text": [
      "Total 400000 word vectors in Glove.\n"
     ]
    }
   ],
   "source": [
    "print('Total %s word vectors in Glove.' % len(embeddings_index))"
   ]
  },
  {
   "cell_type": "code",
   "execution_count": 19,
   "id": "cb8938ad-a2f3-4928-b551-7170c64ba895",
   "metadata": {},
   "outputs": [],
   "source": [
    "embedding_matrix = np.random.random((len(word_index) + 1, 300))\n",
    "for word, i in word_index.items():\n",
    "    embedding_vector = embeddings_index.get(word)\n",
    "    if embedding_vector is not None:\n",
    "        embedding_matrix[i] = embedding_vector\n",
    "\n",
    "embedding_layer = Embedding(len(word_index) + 1,\n",
    "                            300,\n",
    "                            weights=[embedding_matrix])\n",
    "\n",
    "path = os.getcwd() + '/'\n",
    "pickle.dump(embedding_layer, open(path + 'i100embedding_layer.pkl', 'wb'))"
   ]
  },
  {
   "cell_type": "markdown",
   "id": "2430e261-87e8-41d8-93c9-d7e5b155fa34",
   "metadata": {},
   "source": [
    "# Splitting the Data"
   ]
  },
  {
   "cell_type": "code",
   "execution_count": 20,
   "id": "b4098ae0-a572-4bc9-93a8-0013546f8a55",
   "metadata": {},
   "outputs": [
    {
     "name": "stdout",
     "output_type": "stream",
     "text": [
      "Size of train, validation, test: 35918 4490 4490\n",
      "real & fake news in train,valt,test:\n",
      "17094\n",
      "2147\n",
      "2176\n"
     ]
    }
   ],
   "source": [
    "data=sequences\n",
    "label= input_data[\"label\"]\n",
    "x_train, x_test, y_train, y_test = train_test_split( data, label, test_size=0.20, random_state=42)\n",
    "x_test, x_val, y_test, y_val = train_test_split( x_test, y_test, test_size=0.50, random_state=42)\n",
    "print('Size of train, validation, test:', len(y_train), len(y_val), len(y_test))\n",
    "\n",
    "print('real & fake news in train,valt,test:')\n",
    "print(y_train.sum(axis=0))\n",
    "print(y_val.sum(axis=0))\n",
    "print(y_test.sum(axis=0))"
   ]
  },
  {
   "cell_type": "code",
   "execution_count": null,
   "id": "67563467-3f43-4921-9db2-0bee3e0dcfdb",
   "metadata": {},
   "outputs": [],
   "source": [
    "path = os.getcwd() + '/'\n",
    "pickle.dump(x_train, open(path + 'x_train.pkl', 'wb'))\n",
    "pickle.dump(y_train, open(path + 'y_train.pkl', 'wb'))\n",
    "pickle.dump(y_test, open(path + 'y_test.pkl', 'wb'))\n",
    "pickle.dump(x_test, open(path + 'x_test.pkl', 'wb'))\n",
    "pickle.dump(x_val, open(path + 'x_val.pkl', 'wb'))\n",
    "pickle.dump(y_val, open(path + 'y_val.pkl', 'wb'))"
   ]
  },
  {
   "cell_type": "markdown",
   "id": "5449a3e3-132e-4d43-a3a5-e05aa109d19d",
   "metadata": {},
   "source": [
    "# Model"
   ]
  },
  {
   "cell_type": "code",
   "execution_count": 9,
   "id": "e67b011d-456e-4d6a-8187-b4bde6cd3271",
   "metadata": {},
   "outputs": [],
   "source": [
    "path = os.getcwd() + '/'\n",
    "x_train=pickle.load(open(path+'x_train.pkl', 'rb'))\n",
    "y_train=pickle.load(open(path+'y_train.pkl', 'rb'))\n",
    "y_test=pickle.load(open(path+'y_test.pkl', 'rb'))\n",
    "x_test=pickle.load(open(path+'x_test.pkl', 'rb'))\n",
    "x_val=pickle.load(open(path+'x_val.pkl', 'rb'))\n",
    "y_val=pickle.load(open(path+'y_val.pkl', 'rb'))\n",
    "embedding_layer = pickle.load(open(path+'i100embedding_layer.pkl', 'rb'))"
   ]
  },
  {
   "cell_type": "code",
   "execution_count": 16,
   "id": "cf47bcce-3f4b-451b-b19d-1cbeec57565f",
   "metadata": {},
   "outputs": [],
   "source": [
    "class myCallback(Callback):\n",
    "    def __init__(self, model_name='CNN_LSTM', model_dir='./Models/CNN_LSTM_Models'):\n",
    "        super(myCallback, self).__init__()\n",
    "        self.model_name = model_name\n",
    "        self.model_dir = model_dir\n",
    "        if not os.path.exists(self.model_dir):\n",
    "            os.makedirs(self.model_dir)\n",
    "\n",
    "    def on_epoch_end(self, epoch, logs=None):\n",
    "        if logs is None:\n",
    "            logs = {}\n",
    "        acc = logs.get('accuracy', 0)\n",
    "        val_acc = logs.get('val_accuracy', 0)\n",
    "\n",
    "    def on_train_end(self, logs=None):\n",
    "        if logs is None:\n",
    "            logs = {}\n",
    "        \n",
    "        model_path = os.path.join(self.model_dir, f\"{self.model_name}.h5\")  # Add .h5 extension\n",
    "        self.model.save(model_path)  # Save the model in .h5 format\n",
    "        print(f\"Model saved at: {model_path} (HDF5 format)\")"
   ]
  },
  {
   "cell_type": "code",
   "execution_count": 17,
   "id": "031fc9db-0623-4f87-9b53-b6b088eb8020",
   "metadata": {},
   "outputs": [
    {
     "data": {
      "text/html": [
       "<pre style=\"white-space:pre;overflow-x:auto;line-height:normal;font-family:Menlo,'DejaVu Sans Mono',consolas,'Courier New',monospace\"><span style=\"font-weight: bold\">Model: \"CNN+LSTM\"</span>\n",
       "</pre>\n"
      ],
      "text/plain": [
       "\u001b[1mModel: \"CNN+LSTM\"\u001b[0m\n"
      ]
     },
     "metadata": {},
     "output_type": "display_data"
    },
    {
     "data": {
      "text/html": [
       "<pre style=\"white-space:pre;overflow-x:auto;line-height:normal;font-family:Menlo,'DejaVu Sans Mono',consolas,'Courier New',monospace\">┏━━━━━━━━━━━━━━━━━━━━━━━━━━━━━━━━━━━━━━┳━━━━━━━━━━━━━━━━━━━━━━━━━━━━━┳━━━━━━━━━━━━━━━━━┓\n",
       "┃<span style=\"font-weight: bold\"> Layer (type)                         </span>┃<span style=\"font-weight: bold\"> Output Shape                </span>┃<span style=\"font-weight: bold\">         Param # </span>┃\n",
       "┡━━━━━━━━━━━━━━━━━━━━━━━━━━━━━━━━━━━━━━╇━━━━━━━━━━━━━━━━━━━━━━━━━━━━━╇━━━━━━━━━━━━━━━━━┩\n",
       "│ input_layer (<span style=\"color: #0087ff; text-decoration-color: #0087ff\">InputLayer</span>)             │ (<span style=\"color: #00d7ff; text-decoration-color: #00d7ff\">None</span>, <span style=\"color: #00af00; text-decoration-color: #00af00\">100</span>)                 │               <span style=\"color: #00af00; text-decoration-color: #00af00\">0</span> │\n",
       "├──────────────────────────────────────┼─────────────────────────────┼─────────────────┤\n",
       "│ embedding (<span style=\"color: #0087ff; text-decoration-color: #0087ff\">Embedding</span>)                │ (<span style=\"color: #00d7ff; text-decoration-color: #00d7ff\">None</span>, <span style=\"color: #00af00; text-decoration-color: #00af00\">100</span>, <span style=\"color: #00af00; text-decoration-color: #00af00\">300</span>)            │      <span style=\"color: #00af00; text-decoration-color: #00af00\">38,994,900</span> │\n",
       "├──────────────────────────────────────┼─────────────────────────────┼─────────────────┤\n",
       "│ conv1d (<span style=\"color: #0087ff; text-decoration-color: #0087ff\">Conv1D</span>)                      │ (<span style=\"color: #00d7ff; text-decoration-color: #00d7ff\">None</span>, <span style=\"color: #00af00; text-decoration-color: #00af00\">96</span>, <span style=\"color: #00af00; text-decoration-color: #00af00\">128</span>)             │         <span style=\"color: #00af00; text-decoration-color: #00af00\">192,128</span> │\n",
       "├──────────────────────────────────────┼─────────────────────────────┼─────────────────┤\n",
       "│ dropout (<span style=\"color: #0087ff; text-decoration-color: #0087ff\">Dropout</span>)                    │ (<span style=\"color: #00d7ff; text-decoration-color: #00d7ff\">None</span>, <span style=\"color: #00af00; text-decoration-color: #00af00\">96</span>, <span style=\"color: #00af00; text-decoration-color: #00af00\">128</span>)             │               <span style=\"color: #00af00; text-decoration-color: #00af00\">0</span> │\n",
       "├──────────────────────────────────────┼─────────────────────────────┼─────────────────┤\n",
       "│ batch_normalization                  │ (<span style=\"color: #00d7ff; text-decoration-color: #00d7ff\">None</span>, <span style=\"color: #00af00; text-decoration-color: #00af00\">96</span>, <span style=\"color: #00af00; text-decoration-color: #00af00\">128</span>)             │             <span style=\"color: #00af00; text-decoration-color: #00af00\">512</span> │\n",
       "│ (<span style=\"color: #0087ff; text-decoration-color: #0087ff\">BatchNormalization</span>)                 │                             │                 │\n",
       "├──────────────────────────────────────┼─────────────────────────────┼─────────────────┤\n",
       "│ max_pooling1d (<span style=\"color: #0087ff; text-decoration-color: #0087ff\">MaxPooling1D</span>)         │ (<span style=\"color: #00d7ff; text-decoration-color: #00d7ff\">None</span>, <span style=\"color: #00af00; text-decoration-color: #00af00\">48</span>, <span style=\"color: #00af00; text-decoration-color: #00af00\">128</span>)             │               <span style=\"color: #00af00; text-decoration-color: #00af00\">0</span> │\n",
       "├──────────────────────────────────────┼─────────────────────────────┼─────────────────┤\n",
       "│ lstm (<span style=\"color: #0087ff; text-decoration-color: #0087ff\">LSTM</span>)                          │ (<span style=\"color: #00d7ff; text-decoration-color: #00d7ff\">None</span>, <span style=\"color: #00af00; text-decoration-color: #00af00\">32</span>)                  │          <span style=\"color: #00af00; text-decoration-color: #00af00\">20,608</span> │\n",
       "├──────────────────────────────────────┼─────────────────────────────┼─────────────────┤\n",
       "│ dropout_1 (<span style=\"color: #0087ff; text-decoration-color: #0087ff\">Dropout</span>)                  │ (<span style=\"color: #00d7ff; text-decoration-color: #00d7ff\">None</span>, <span style=\"color: #00af00; text-decoration-color: #00af00\">32</span>)                  │               <span style=\"color: #00af00; text-decoration-color: #00af00\">0</span> │\n",
       "├──────────────────────────────────────┼─────────────────────────────┼─────────────────┤\n",
       "│ dense (<span style=\"color: #0087ff; text-decoration-color: #0087ff\">Dense</span>)                        │ (<span style=\"color: #00d7ff; text-decoration-color: #00d7ff\">None</span>, <span style=\"color: #00af00; text-decoration-color: #00af00\">1</span>)                   │              <span style=\"color: #00af00; text-decoration-color: #00af00\">33</span> │\n",
       "└──────────────────────────────────────┴─────────────────────────────┴─────────────────┘\n",
       "</pre>\n"
      ],
      "text/plain": [
       "┏━━━━━━━━━━━━━━━━━━━━━━━━━━━━━━━━━━━━━━┳━━━━━━━━━━━━━━━━━━━━━━━━━━━━━┳━━━━━━━━━━━━━━━━━┓\n",
       "┃\u001b[1m \u001b[0m\u001b[1mLayer (type)                        \u001b[0m\u001b[1m \u001b[0m┃\u001b[1m \u001b[0m\u001b[1mOutput Shape               \u001b[0m\u001b[1m \u001b[0m┃\u001b[1m \u001b[0m\u001b[1m        Param #\u001b[0m\u001b[1m \u001b[0m┃\n",
       "┡━━━━━━━━━━━━━━━━━━━━━━━━━━━━━━━━━━━━━━╇━━━━━━━━━━━━━━━━━━━━━━━━━━━━━╇━━━━━━━━━━━━━━━━━┩\n",
       "│ input_layer (\u001b[38;5;33mInputLayer\u001b[0m)             │ (\u001b[38;5;45mNone\u001b[0m, \u001b[38;5;34m100\u001b[0m)                 │               \u001b[38;5;34m0\u001b[0m │\n",
       "├──────────────────────────────────────┼─────────────────────────────┼─────────────────┤\n",
       "│ embedding (\u001b[38;5;33mEmbedding\u001b[0m)                │ (\u001b[38;5;45mNone\u001b[0m, \u001b[38;5;34m100\u001b[0m, \u001b[38;5;34m300\u001b[0m)            │      \u001b[38;5;34m38,994,900\u001b[0m │\n",
       "├──────────────────────────────────────┼─────────────────────────────┼─────────────────┤\n",
       "│ conv1d (\u001b[38;5;33mConv1D\u001b[0m)                      │ (\u001b[38;5;45mNone\u001b[0m, \u001b[38;5;34m96\u001b[0m, \u001b[38;5;34m128\u001b[0m)             │         \u001b[38;5;34m192,128\u001b[0m │\n",
       "├──────────────────────────────────────┼─────────────────────────────┼─────────────────┤\n",
       "│ dropout (\u001b[38;5;33mDropout\u001b[0m)                    │ (\u001b[38;5;45mNone\u001b[0m, \u001b[38;5;34m96\u001b[0m, \u001b[38;5;34m128\u001b[0m)             │               \u001b[38;5;34m0\u001b[0m │\n",
       "├──────────────────────────────────────┼─────────────────────────────┼─────────────────┤\n",
       "│ batch_normalization                  │ (\u001b[38;5;45mNone\u001b[0m, \u001b[38;5;34m96\u001b[0m, \u001b[38;5;34m128\u001b[0m)             │             \u001b[38;5;34m512\u001b[0m │\n",
       "│ (\u001b[38;5;33mBatchNormalization\u001b[0m)                 │                             │                 │\n",
       "├──────────────────────────────────────┼─────────────────────────────┼─────────────────┤\n",
       "│ max_pooling1d (\u001b[38;5;33mMaxPooling1D\u001b[0m)         │ (\u001b[38;5;45mNone\u001b[0m, \u001b[38;5;34m48\u001b[0m, \u001b[38;5;34m128\u001b[0m)             │               \u001b[38;5;34m0\u001b[0m │\n",
       "├──────────────────────────────────────┼─────────────────────────────┼─────────────────┤\n",
       "│ lstm (\u001b[38;5;33mLSTM\u001b[0m)                          │ (\u001b[38;5;45mNone\u001b[0m, \u001b[38;5;34m32\u001b[0m)                  │          \u001b[38;5;34m20,608\u001b[0m │\n",
       "├──────────────────────────────────────┼─────────────────────────────┼─────────────────┤\n",
       "│ dropout_1 (\u001b[38;5;33mDropout\u001b[0m)                  │ (\u001b[38;5;45mNone\u001b[0m, \u001b[38;5;34m32\u001b[0m)                  │               \u001b[38;5;34m0\u001b[0m │\n",
       "├──────────────────────────────────────┼─────────────────────────────┼─────────────────┤\n",
       "│ dense (\u001b[38;5;33mDense\u001b[0m)                        │ (\u001b[38;5;45mNone\u001b[0m, \u001b[38;5;34m1\u001b[0m)                   │              \u001b[38;5;34m33\u001b[0m │\n",
       "└──────────────────────────────────────┴─────────────────────────────┴─────────────────┘\n"
      ]
     },
     "metadata": {},
     "output_type": "display_data"
    },
    {
     "data": {
      "text/html": [
       "<pre style=\"white-space:pre;overflow-x:auto;line-height:normal;font-family:Menlo,'DejaVu Sans Mono',consolas,'Courier New',monospace\"><span style=\"font-weight: bold\"> Total params: </span><span style=\"color: #00af00; text-decoration-color: #00af00\">39,208,181</span> (149.57 MB)\n",
       "</pre>\n"
      ],
      "text/plain": [
       "\u001b[1m Total params: \u001b[0m\u001b[38;5;34m39,208,181\u001b[0m (149.57 MB)\n"
      ]
     },
     "metadata": {},
     "output_type": "display_data"
    },
    {
     "data": {
      "text/html": [
       "<pre style=\"white-space:pre;overflow-x:auto;line-height:normal;font-family:Menlo,'DejaVu Sans Mono',consolas,'Courier New',monospace\"><span style=\"font-weight: bold\"> Trainable params: </span><span style=\"color: #00af00; text-decoration-color: #00af00\">39,207,925</span> (149.57 MB)\n",
       "</pre>\n"
      ],
      "text/plain": [
       "\u001b[1m Trainable params: \u001b[0m\u001b[38;5;34m39,207,925\u001b[0m (149.57 MB)\n"
      ]
     },
     "metadata": {},
     "output_type": "display_data"
    },
    {
     "data": {
      "text/html": [
       "<pre style=\"white-space:pre;overflow-x:auto;line-height:normal;font-family:Menlo,'DejaVu Sans Mono',consolas,'Courier New',monospace\"><span style=\"font-weight: bold\"> Non-trainable params: </span><span style=\"color: #00af00; text-decoration-color: #00af00\">256</span> (1.00 KB)\n",
       "</pre>\n"
      ],
      "text/plain": [
       "\u001b[1m Non-trainable params: \u001b[0m\u001b[38;5;34m256\u001b[0m (1.00 KB)\n"
      ]
     },
     "metadata": {},
     "output_type": "display_data"
    }
   ],
   "source": [
    "i = Input(shape=(100,), dtype='uint8')\n",
    "x = embedding_layer(i)\n",
    "x = Conv1D(128, 5, activation='relu')(x)\n",
    "x= Dropout(0.30)(x)\n",
    "x= BatchNormalization()(x)\n",
    "x = MaxPool1D()(x)\n",
    "x = LSTM(32, activation='linear')(x)\n",
    "x= Dropout(0.30)(x)\n",
    "output = Dense(1, activation='sigmoid')(x)\n",
    "model = Model(inputs=[i], outputs=output)\n",
    "\n",
    "model.compile(optimizer=Adam(learning_rate=1e-4),\n",
    "              loss='binary_crossentropy',\n",
    "              metrics=['accuracy'])\n",
    "\n",
    "model = Model(inputs=[i], outputs=output, name='CNN+LSTM')\n",
    "\n",
    "model.summary()\n",
    "callback = myCallback()"
   ]
  },
  {
   "cell_type": "code",
   "execution_count": 17,
   "id": "3c3d3939-c5b0-43c0-b8a5-bfe5e0345103",
   "metadata": {},
   "outputs": [
    {
     "name": "stdout",
     "output_type": "stream",
     "text": [
      "Epoch 1/30\n",
      "\u001b[1m561/561\u001b[0m \u001b[32m━━━━━━━━━━━━━━━━━━━━\u001b[0m\u001b[37m\u001b[0m \u001b[1m125s\u001b[0m 222ms/step - accuracy: 0.8349 - loss: 0.3752 - val_accuracy: 0.8811 - val_loss: 0.2824\n",
      "Epoch 2/30\n",
      "\u001b[1m561/561\u001b[0m \u001b[32m━━━━━━━━━━━━━━━━━━━━\u001b[0m\u001b[37m\u001b[0m \u001b[1m124s\u001b[0m 222ms/step - accuracy: 0.8728 - loss: 0.3011\n",
      "Epoch 3/30\n",
      "\u001b[1m561/561\u001b[0m \u001b[32m━━━━━━━━━━━━━━━━━━━━\u001b[0m\u001b[37m\u001b[0m \u001b[1m125s\u001b[0m 222ms/step - accuracy: 0.8970 - loss: 0.2572 - val_accuracy: 0.9216 - val_loss: 0.2048\n",
      "Epoch 4/30\n",
      "\u001b[1m561/561\u001b[0m \u001b[32m━━━━━━━━━━━━━━━━━━━━\u001b[0m\u001b[37m\u001b[0m \u001b[1m124s\u001b[0m 222ms/step - accuracy: 0.9114 - loss: 0.2235\n",
      "Epoch 5/30\n",
      "\u001b[1m561/561\u001b[0m \u001b[32m━━━━━━━━━━━━━━━━━━━━\u001b[0m\u001b[37m\u001b[0m \u001b[1m124s\u001b[0m 221ms/step - accuracy: 0.9225 - loss: 0.1960 - val_accuracy: 0.9330 - val_loss: 0.1762\n",
      "Epoch 6/30\n",
      "\u001b[1m561/561\u001b[0m \u001b[32m━━━━━━━━━━━━━━━━━━━━\u001b[0m\u001b[37m\u001b[0m \u001b[1m124s\u001b[0m 220ms/step - accuracy: 0.9306 - loss: 0.1812\n",
      "Epoch 7/30\n",
      "\u001b[1m561/561\u001b[0m \u001b[32m━━━━━━━━━━━━━━━━━━━━\u001b[0m\u001b[37m\u001b[0m \u001b[1m125s\u001b[0m 222ms/step - accuracy: 0.9408 - loss: 0.1554 - val_accuracy: 0.9445 - val_loss: 0.1465\n",
      "Epoch 8/30\n",
      "\u001b[1m561/561\u001b[0m \u001b[32m━━━━━━━━━━━━━━━━━━━━\u001b[0m\u001b[37m\u001b[0m \u001b[1m124s\u001b[0m 221ms/step - accuracy: 0.9473 - loss: 0.1404\n",
      "Epoch 9/30\n",
      "\u001b[1m561/561\u001b[0m \u001b[32m━━━━━━━━━━━━━━━━━━━━\u001b[0m\u001b[37m\u001b[0m \u001b[1m125s\u001b[0m 222ms/step - accuracy: 0.9514 - loss: 0.1267 - val_accuracy: 0.9421 - val_loss: 0.1440\n",
      "Epoch 10/30\n",
      "\u001b[1m561/561\u001b[0m \u001b[32m━━━━━━━━━━━━━━━━━━━━\u001b[0m\u001b[37m\u001b[0m \u001b[1m124s\u001b[0m 221ms/step - accuracy: 0.9565 - loss: 0.1148\n",
      "Epoch 11/30\n",
      "\u001b[1m561/561\u001b[0m \u001b[32m━━━━━━━━━━━━━━━━━━━━\u001b[0m\u001b[37m\u001b[0m \u001b[1m125s\u001b[0m 223ms/step - accuracy: 0.9598 - loss: 0.1022 - val_accuracy: 0.9261 - val_loss: 0.1988\n",
      "Epoch 12/30\n",
      "\u001b[1m561/561\u001b[0m \u001b[32m━━━━━━━━━━━━━━━━━━━━\u001b[0m\u001b[37m\u001b[0m \u001b[1m124s\u001b[0m 221ms/step - accuracy: 0.9660 - loss: 0.0905\n",
      "Epoch 13/30\n",
      "\u001b[1m561/561\u001b[0m \u001b[32m━━━━━━━━━━━━━━━━━━━━\u001b[0m\u001b[37m\u001b[0m \u001b[1m125s\u001b[0m 223ms/step - accuracy: 0.9693 - loss: 0.0807 - val_accuracy: 0.9421 - val_loss: 0.1492\n",
      "Epoch 14/30\n",
      "\u001b[1m561/561\u001b[0m \u001b[32m━━━━━━━━━━━━━━━━━━━━\u001b[0m\u001b[37m\u001b[0m \u001b[1m124s\u001b[0m 222ms/step - accuracy: 0.9702 - loss: 0.0789\n",
      "Epoch 15/30\n",
      "\u001b[1m561/561\u001b[0m \u001b[32m━━━━━━━━━━━━━━━━━━━━\u001b[0m\u001b[37m\u001b[0m \u001b[1m125s\u001b[0m 223ms/step - accuracy: 0.9757 - loss: 0.0653 - val_accuracy: 0.9586 - val_loss: 0.1122\n",
      "Epoch 16/30\n",
      "\u001b[1m561/561\u001b[0m \u001b[32m━━━━━━━━━━━━━━━━━━━━\u001b[0m\u001b[37m\u001b[0m \u001b[1m124s\u001b[0m 222ms/step - accuracy: 0.9770 - loss: 0.0608\n",
      "Epoch 17/30\n",
      "\u001b[1m561/561\u001b[0m \u001b[32m━━━━━━━━━━━━━━━━━━━━\u001b[0m\u001b[37m\u001b[0m \u001b[1m125s\u001b[0m 223ms/step - accuracy: 0.9775 - loss: 0.0630 - val_accuracy: 0.9617 - val_loss: 0.1116\n",
      "Epoch 18/30\n",
      "\u001b[1m561/561\u001b[0m \u001b[32m━━━━━━━━━━━━━━━━━━━━\u001b[0m\u001b[37m\u001b[0m \u001b[1m124s\u001b[0m 221ms/step - accuracy: 0.9745 - loss: 0.0782\n",
      "Epoch 19/30\n",
      "\u001b[1m561/561\u001b[0m \u001b[32m━━━━━━━━━━━━━━━━━━━━\u001b[0m\u001b[37m\u001b[0m \u001b[1m124s\u001b[0m 221ms/step - accuracy: 0.9538 - loss: 0.1291 - val_accuracy: 0.9550 - val_loss: 0.1198\n",
      "Epoch 20/30\n",
      "\u001b[1m561/561\u001b[0m \u001b[32m━━━━━━━━━━━━━━━━━━━━\u001b[0m\u001b[37m\u001b[0m \u001b[1m123s\u001b[0m 220ms/step - accuracy: 0.9615 - loss: 0.1036\n",
      "Epoch 21/30\n",
      "\u001b[1m561/561\u001b[0m \u001b[32m━━━━━━━━━━━━━━━━━━━━\u001b[0m\u001b[37m\u001b[0m \u001b[1m124s\u001b[0m 221ms/step - accuracy: 0.9687 - loss: 0.0882 - val_accuracy: 0.9617 - val_loss: 0.1045\n",
      "Epoch 22/30\n",
      "\u001b[1m561/561\u001b[0m \u001b[32m━━━━━━━━━━━━━━━━━━━━\u001b[0m\u001b[37m\u001b[0m \u001b[1m124s\u001b[0m 221ms/step - accuracy: 0.9723 - loss: 0.0762\n",
      "Epoch 23/30\n",
      "\u001b[1m561/561\u001b[0m \u001b[32m━━━━━━━━━━━━━━━━━━━━\u001b[0m\u001b[37m\u001b[0m \u001b[1m125s\u001b[0m 222ms/step - accuracy: 0.9742 - loss: 0.0676 - val_accuracy: 0.9635 - val_loss: 0.1027\n",
      "Epoch 24/30\n",
      "\u001b[1m561/561\u001b[0m \u001b[32m━━━━━━━━━━━━━━━━━━━━\u001b[0m\u001b[37m\u001b[0m \u001b[1m124s\u001b[0m 221ms/step - accuracy: 0.9762 - loss: 0.0621\n",
      "Epoch 25/30\n",
      "\u001b[1m561/561\u001b[0m \u001b[32m━━━━━━━━━━━━━━━━━━━━\u001b[0m\u001b[37m\u001b[0m \u001b[1m124s\u001b[0m 222ms/step - accuracy: 0.9797 - loss: 0.0538 - val_accuracy: 0.9592 - val_loss: 0.1147\n",
      "Epoch 26/30\n",
      "\u001b[1m561/561\u001b[0m \u001b[32m━━━━━━━━━━━━━━━━━━━━\u001b[0m\u001b[37m\u001b[0m \u001b[1m124s\u001b[0m 221ms/step - accuracy: 0.9812 - loss: 0.0510\n",
      "Epoch 27/30\n",
      "\u001b[1m561/561\u001b[0m \u001b[32m━━━━━━━━━━━━━━━━━━━━\u001b[0m\u001b[37m\u001b[0m \u001b[1m124s\u001b[0m 222ms/step - accuracy: 0.9820 - loss: 0.0535 - val_accuracy: 0.9510 - val_loss: 0.1268\n",
      "Epoch 28/30\n",
      "\u001b[1m561/561\u001b[0m \u001b[32m━━━━━━━━━━━━━━━━━━━━\u001b[0m\u001b[37m\u001b[0m \u001b[1m124s\u001b[0m 220ms/step - accuracy: 0.9271 - loss: 0.2262\n",
      "Epoch 29/30\n",
      "\u001b[1m561/561\u001b[0m \u001b[32m━━━━━━━━━━━━━━━━━━━━\u001b[0m\u001b[37m\u001b[0m \u001b[1m124s\u001b[0m 222ms/step - accuracy: 0.9234 - loss: 0.1857 - val_accuracy: 0.9307 - val_loss: 0.1601\n",
      "Epoch 30/30\n",
      "\u001b[1m561/561\u001b[0m \u001b[32m━━━━━━━━━━━━━━━━━━━━\u001b[0m\u001b[37m\u001b[0m \u001b[1m124s\u001b[0m 220ms/step - accuracy: 0.9400 - loss: 0.1515\n"
     ]
    },
    {
     "name": "stderr",
     "output_type": "stream",
     "text": [
      "WARNING:absl:You are saving your model as an HDF5 file via `model.save()` or `keras.saving.save_model(model)`. This file format is considered legacy. We recommend using instead the native Keras format, e.g. `model.save('my_model.keras')` or `keras.saving.save_model(model, 'my_model.keras')`. \n"
     ]
    },
    {
     "name": "stdout",
     "output_type": "stream",
     "text": [
      "Model saved at: ./Models/CNN_LSTM_Models\\CNN_LSTM.h5 (HDF5 format)\n"
     ]
    }
   ],
   "source": [
    "BATCH_SIZE = 64\n",
    "EPOCHS = 30\n",
    "TRAINING_STEPS = len(x_train) // BATCH_SIZE\n",
    "VALIDATION_STEPS = len(x_val) // BATCH_SIZE\n",
    "\n",
    "history = model.fit(\n",
    "    x_train, y_train,\n",
    "    steps_per_epoch=TRAINING_STEPS,\n",
    "    validation_data=(x_val, y_val),\n",
    "    validation_steps=VALIDATION_STEPS,\n",
    "    epochs=EPOCHS,\n",
    "    callbacks=[callback],\n",
    "    verbose='auto'\n",
    ")\n",
    "\n",
    "pickle.dump(history.history, open('./Models/CNN_LSTM_Models/history_CNN_LSTM.pkl', 'wb'))"
   ]
  },
  {
   "cell_type": "code",
   "execution_count": 4,
   "id": "a794415f-6c8a-4388-aa9e-7559ad3a5e14",
   "metadata": {},
   "outputs": [
    {
     "data": {
      "image/png": "[encoded data removed]",
      "text/plain": [
       "<Figure size 1200x600 with 2 Axes>"
      ]
     },
     "metadata": {},
     "output_type": "display_data"
    }
   ],
   "source": [
    "with open('./Models/CNN_LSTM_Models/history_CNN_LSTM.pkl', 'rb') as file:\n",
    "    history = pickle.load(file)\n",
    "\n",
    "fig, axs = plt.subplots(1, 2, figsize=(12, 6))\n",
    "\n",
    "# Plot Accuracy\n",
    "axs[0].plot(history['accuracy'], label='Train Accuracy')\n",
    "axs[0].plot(history['val_accuracy'], label='Validation Accuracy')\n",
    "axs[0].set_title('Model Accuracy of CNN+LSTM')\n",
    "axs[0].set_xlabel('Epoch')\n",
    "axs[0].set_ylabel('Accuracy')\n",
    "axs[0].set_ylim(0.8, 1)\n",
    "axs[0].legend(loc='upper left')\n",
    "\n",
    "# Plot Loss\n",
    "axs[1].plot(history['loss'], label='Train Loss')\n",
    "axs[1].plot(history['val_loss'], label='Validation Loss')\n",
    "axs[1].set_title('Model Loss of CNN+LSTM')\n",
    "axs[1].set_xlabel('Epoch')\n",
    "axs[1].set_ylabel('Loss')\n",
    "axs[1].set_ylim(0, 0.5)\n",
    "axs[1].legend(loc='upper left')\n",
    "\n",
    "plt.tight_layout()\n",
    "plt.show()"
   ]
  },
  {
   "cell_type": "code",
   "execution_count": 5,
   "id": "ae8e5543-36fa-4b0f-8450-53113ef4d530",
   "metadata": {},
   "outputs": [
    {
     "name": "stderr",
     "output_type": "stream",
     "text": [
      "WARNING:absl:Compiled the loaded model, but the compiled metrics have yet to be built. `model.compile_metrics` will be empty until you train or evaluate the model.\n"
     ]
    }
   ],
   "source": [
    "saved_model_path = './Models/CNN_LSTM_Models/CNN_LSTM.h5'  \n",
    "\n",
    "inference_model = tf.keras.models.load_model(saved_model_path)"
   ]
  },
  {
   "cell_type": "code",
   "execution_count": 10,
   "id": "50c21a51-9fcb-49ec-823c-5566fe98fe9b",
   "metadata": {},
   "outputs": [
    {
     "name": "stdout",
     "output_type": "stream",
     "text": [
      "\u001b[1m141/141\u001b[0m \u001b[32m━━━━━━━━━━━━━━━━━━━━\u001b[0m\u001b[37m\u001b[0m \u001b[1m2s\u001b[0m 10ms/step\n"
     ]
    },
    {
     "data": {
      "text/plain": [
       "array([1.2762500e-04, 3.2658067e-03, 1.5522491e-03, ..., 1.1436396e-05,\n",
       "       8.7541598e-04, 9.9999982e-01], dtype=float32)"
      ]
     },
     "execution_count": 10,
     "metadata": {},
     "output_type": "execute_result"
    }
   ],
   "source": [
    "y_pred = inference_model.predict(x_test)\n",
    "y_pred = np.squeeze(y_pred)  \n",
    "\n",
    "y_pred"
   ]
  },
  {
   "cell_type": "code",
   "execution_count": 11,
   "id": "a23fe443-fa75-42c9-bec9-228877861fa6",
   "metadata": {},
   "outputs": [],
   "source": [
    "# Converting the predictions to binary using a threshold\n",
    "p = lambda t: 1 if t >= 0.5 else 0\n",
    "y_pred = np.vectorize(p)(y_pred)"
   ]
  },
  {
   "cell_type": "code",
   "execution_count": 12,
   "id": "97e7d12d-519a-49bb-907f-8c10cb78dcfc",
   "metadata": {},
   "outputs": [],
   "source": [
    "y_pred = y_pred.astype(int)\n",
    "y_test = y_test.astype(int)"
   ]
  },
  {
   "cell_type": "code",
   "execution_count": 13,
   "id": "c8f7ace7-9860-46ba-a4b2-990660596b27",
   "metadata": {},
   "outputs": [
    {
     "data": {
      "image/png": "[encoded data removed]",
      "text/plain": [
       "<Figure size 600x600 with 2 Axes>"
      ]
     },
     "metadata": {},
     "output_type": "display_data"
    }
   ],
   "source": [
    "conf_matrix = confusion_matrix(y_true=y_test, y_pred=y_pred)\n",
    "plt.figure(figsize=(6, 6))\n",
    "sns.heatmap(conf_matrix, annot=True, fmt='d', cmap='Blues', cbar=True, square=True,\n",
    "            annot_kws={\"size\": 16}, linewidths=0.5, linecolor='black')\n",
    "\n",
    "plt.xlabel('Predicted Labels', fontsize=12)\n",
    "plt.ylabel('True Labels', fontsize=12)\n",
    "plt.title('Confusion Matrix of CNN+LSTM', fontsize=14)\n",
    "plt.show()"
   ]
  },
  {
   "cell_type": "markdown",
   "id": "b3024657-c54c-4ff7-a18c-882a166dfd2e",
   "metadata": {},
   "source": [
    "\n",
    "|   | Predicted: True News | Predicted: Fake News |\n",
    "|---|----------------------|---------------------|\n",
    "| **Actual: True News**    | 2,342 (TP)          | 70 (FN)             |\n",
    "| **Actual: Fake News**    | 187 (FP)            | 1,891 (TN)           |"
   ]
  },
  {
   "cell_type": "code",
   "execution_count": 14,
   "id": "55c6bf30-0217-4e44-a731-c68c906bda95",
   "metadata": {},
   "outputs": [
    {
     "name": "stdout",
     "output_type": "stream",
     "text": [
      "Accuracy: 0.943\n",
      "Precision: 0.964\n",
      "Recall: 0.910\n",
      "F1 Score: 0.936\n"
     ]
    }
   ],
   "source": [
    "# Displaying performance metrics\n",
    "print('Accuracy: %.3f' % accuracy_score(y_test, y_pred))\n",
    "print('Precision: %.3f' % precision_score(y_test, y_pred))\n",
    "print('Recall: %.3f' % recall_score(y_test, y_pred))\n",
    "print('F1 Score: %.3f' % f1_score(y_test, y_pred))"
   ]
  },
  {
   "cell_type": "code",
   "execution_count": 18,
   "id": "a68e58b4-fdb1-4205-8b84-d91a32ef452c",
   "metadata": {},
   "outputs": [
    {
     "name": "stdout",
     "output_type": "stream",
     "text": [
      "Model architecture saved to: vis\\model_1.png\n"
     ]
    }
   ],
   "source": [
    "dot_img_dir = 'vis'\n",
    "dot_img_file = os.path.join(dot_img_dir, 'model_1.png')\n",
    "\n",
    "# Plot and save the model architecture to the specified file\n",
    "tf.keras.utils.plot_model(model, to_file=dot_img_file, show_shapes=True)\n",
    "\n",
    "print(f\"Model architecture saved to: {dot_img_file}\")"
   ]
  },
  {
   "cell_type": "code",
   "execution_count": null,
   "id": "caa20075-dc32-43b6-a769-c5bacf18f348",
   "metadata": {},
   "outputs": [],
   "source": []
  }
 ],
 "metadata": {
  "kernelspec": {
   "display_name": "Python 3 (ipykernel)",
   "language": "python",
   "name": "python3"
  },
  "language_info": {
   "codemirror_mode": {
    "name": "ipython",
    "version": 3
   },
   "file_extension": ".py",
   "mimetype": "text/x-python",
   "name": "python",
   "nbconvert_exporter": "python",
   "pygments_lexer": "ipython3",
   "version": "3.11.5"
  }
 },
 "nbformat": 4,
 "nbformat_minor": 5
}
